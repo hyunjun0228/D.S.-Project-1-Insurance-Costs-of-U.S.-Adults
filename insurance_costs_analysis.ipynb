{
 "cells": [
  {
   "cell_type": "markdown",
   "metadata": {},
   "source": [
    "<h1>Analysis on Insurance Costs of U.S. Adults</h1>"
   ]
  },
  {
   "cell_type": "markdown",
   "metadata": {},
   "source": [
    "The dataset of the insurance costs of U.S. adults is composed of 7 columns, with 6 independent variables (<b>age, sex, bmi, child, smoker, region</b>) and 1 outcome variable (<b>charges</b>). In prior to the profound analysis of the relationship between these variables, I will briefly summarize an important detail of this dataset.\n"
   ]
  },
  {
   "cell_type": "markdown",
   "metadata": {},
   "source": [
    "In this dataset, the <b>median</b> insurance charge is approximately <b>9382.03</b>, and the <b>mean</b> insurance charge is approximately  <b>13270.42</b>, which is 41.44% higher than the former. Looking at the histogram, we can clearly see that the distribution is <i>skewed to the right</i>. In order to account for the skewedness of the distribution, I will <b>use median instead of mean</b> to evaluate the center of certain distributions when analyzing the relationships between different variables."
   ]
  },
  {
   "cell_type": "code",
   "execution_count": 98,
   "metadata": {
    "scrolled": true
   },
   "outputs": [
    {
     "data": {
      "image/png": "[encoded data removed]",
      "text/plain": [
       "<Figure size 432x288 with 1 Axes>"
      ]
     },
     "metadata": {
      "needs_background": "light"
     },
     "output_type": "display_data"
    },
    {
     "data": {
      "text/plain": [
       "<Figure size 432x288 with 0 Axes>"
      ]
     },
     "metadata": {},
     "output_type": "display_data"
    }
   ],
   "source": [
    "import pandas as pd\n",
    "import statsmodels.api as sm\n",
    "from matplotlib import pyplot as plt\n",
    "\n",
    "insurances = pd.read_csv('insurance.csv')\n",
    "\n",
    "plt.hist(insurances.charges, range=(0, 70000), bins=14, edgecolor='k', alpha=0.65, color='white')\n",
    "plt.title('Insurance Costs of U.S. Adult Population')\n",
    "plt.xlabel('Insurance Costs ($)')\n",
    "plt.ylabel('Number of people')\n",
    "\n",
    "plt.axvline(charges_mean, color='b', linestyle='dashed', linewidth=1)\n",
    "plt.axvline(charges_median, color='r', linestyle='dashed', linewidth=1)\n",
    "min_ylim, max_ylim = plt.ylim()\n",
    "min_xlim, max_xlim = plt.xlim()\n",
    "plt.text(max_xlim*0.7, max_ylim * 0.8, f'Mean: {round(insurances.charges.mean(), 2)}', color='b')\n",
    "plt.text(max_xlim*0.7, max_ylim * 0.9, f'Median: {round(insurances.charges.median(),2)}', color='r')\n",
    "\n",
    "plt.show()\n",
    "plt.clf()\n"
   ]
  },
  {
   "cell_type": "markdown",
   "metadata": {},
   "source": [
    "<h3>Part 1: Determine the strongest and the weakest contributing factor to the insurance charges</h3>"
   ]
  },
  {
   "cell_type": "code",
   "execution_count": 99,
   "metadata": {},
   "outputs": [
    {
     "name": "stdout",
     "output_type": "stream",
     "text": [
      "  variables  corr_coeff\n",
      "0       age    0.299008\n",
      "1       sex   -0.057292\n",
      "2       bmi    0.198341\n",
      "3     child    0.067998\n",
      "4    smoker    0.787251\n",
      "5    region    0.006208\n"
     ]
    }
   ],
   "source": [
    "# Function that changes the region into an integer\n",
    "def region_index(x):\n",
    "\tif x == 'southwest':\n",
    "\t\treturn 1\n",
    "\telif x == 'southeast':\n",
    "\t\treturn 2\n",
    "\telif x == 'northwest':\n",
    "\t\treturn 3\n",
    "\telse:\n",
    "\t\treturn 4\n",
    "\n",
    "# Converting the qualitative values into quantitative values for easier computation\n",
    "insurances['sex'] = insurances.sex.apply(lambda x: 1 if x ==\"male\" else 2)\n",
    "insurances['smoker'] = insurances.smoker.apply(lambda x: 1 if x =='yes' else 0)\n",
    "insurances['region'] = insurances.region.apply(lambda x: region_index(x))\n",
    "\n",
    "#Calculating the correlation coefficient of each variable with the insurance charges\n",
    "age_charges = insurances['age'].corr(insurances['charges'])\n",
    "sex_charges = insurances['sex'].corr(insurances['charges'])\n",
    "bmi_charges = insurances['bmi'].corr(insurances['charges'])\n",
    "child_charges = insurances['children'].corr(insurances['charges'])\n",
    "smoker_charges = insurances['smoker'].corr(insurances['charges'])\n",
    "region_charges = insurances['region'].corr(insurances['charges'])\n",
    "\n",
    "# Creating a table of variables against the correlation coefficients to easily compare the values\n",
    "charges_corr_df = pd.DataFrame({'variables': ['age', 'sex', 'bmi', 'child', 'smoker', 'region'], 'corr_coeff': [age_charges, sex_charges, bmi_charges, child_charges, smoker_charges, region_charges]})\n",
    "print(charges_corr_df)"
   ]
  },
  {
   "cell_type": "markdown",
   "metadata": {},
   "source": [
    "Looking at the table, we could see that the <b>\"smoker\"</b> variable has the strongest correlation with the insurance charges, and the <b>\"region\"</b> variable has the weakest (or almost no) correlation with the insurance charges. This contradicts my initial hypothesis that <b>\"bmi\"</b> would be the largest contributing factor to the insurance charges (<b>\"bmi\"</b> in fact had a low correlation coefficient value of less than <b>0.2</b>). Although we cannot readily conclude that being a smoker results in a higher insurance charge, it is safe to speculate that <i>smokers tend to pay higher insurance costs compared to non-smokers</i>. "
   ]
  },
  {
   "cell_type": "markdown",
   "metadata": {},
   "source": [
    "<h3> Part 2: Determine how the smoking habits in each sex affect the insurance charges </h3>"
   ]
  },
  {
   "cell_type": "markdown",
   "metadata": {},
   "source": [
    "Let's begin by inspecting the number of smokers and non-smokers in our data, and difference in the median insurance charges between the smokers and non-smokers. "
   ]
  },
  {
   "cell_type": "code",
   "execution_count": 100,
   "metadata": {
    "scrolled": true
   },
   "outputs": [
    {
     "name": "stdout",
     "output_type": "stream",
     "text": [
      "   smoker      charges  num_people\n",
      "0       0   7345.40530        1064\n",
      "1       1  34456.34845         274\n"
     ]
    }
   ],
   "source": [
    "# Grouping the dataset with \"smoker\" variable (strongest factor); there are 1064 non-smokers and 274 smokers in our dataset\n",
    "smokers_charge = insurances.groupby('smoker').charges.median().reset_index()\n",
    "smokers_number = insurances.groupby('smoker').age.count().reset_index()\n",
    "smokers_number.rename(columns={'age': 'num_people'}, inplace=True)\n",
    "smokers_charge = pd.merge(smokers_charge, smokers_number)\n",
    "print(smokers_charge)"
   ]
  },
  {
   "cell_type": "markdown",
   "metadata": {},
   "source": [
    "As the data in the table displays, the median charges of non-smokers is approximately 7345.41 where as that of smokers 34456.35, about 469.09% higher than the former. <i>Smoking seems to be a highly expensive habit in relation to insurance charges. </i> Now, we will divide the participants into four groups, according to their sex and smoking habit, and inspect how the insurance charges across different groups differ."
   ]
  },
  {
   "cell_type": "code",
   "execution_count": 112,
   "metadata": {},
   "outputs": [
    {
     "name": "stdout",
     "output_type": "stream",
     "text": [
      "smoker  non-smoker      smoker\n",
      "female  7639.41745  28950.4692\n",
      "male    6985.50695  36085.2190\n"
     ]
    }
   ],
   "source": [
    "# Grouping based on the variables \"smoker\" and \"sex\"\n",
    "smokers_sex = insurances.groupby(['smoker', 'sex']).charges.median().reset_index()\n",
    "smokers_sex['sex'] = smokers_sex['sex'].apply(lambda x: 'male' if x ==1 else 'female')\n",
    "smokers_sex_pivot = smokers_sex.pivot(columns='smoker', index='sex', values='charges')\n",
    "smokers_sex_pivot.index.name = None\n",
    "smokers_sex_pivot.rename(columns={0: 'non-smoker', 1:'smoker'}, inplace=True)\n",
    "print(smokers_sex_pivot)"
   ]
  },
  {
   "cell_type": "markdown",
   "metadata": {},
   "source": [
    "The median insurance charges of <b>female non-smokers</b> is 7639.42 and that of <b>female smokers</b> is 28950.50; the median insurance charges of <b>male non-smokers</b> is 6985.51 and that of <b>male smokers</b> is 36085.22. Interestingly enough, smoking habit among the male participants incurred in 29099.71 increase in insurance charges, which is 37% higher than the increase in the insurance charges incurred by the smoking habit of female participants, which is 21311.08. In other words, \"smoker\" variable affected the insurance charges of the \"male\" participants <i>37% more</i> than it did to the insurance charges of the \"female\" participants. This is vindicated by the higher correlation coefficient between \"smoker\" and \"charge\" among \"male\" participants than in \"female\" participants."
   ]
  },
  {
   "cell_type": "code",
   "execution_count": 114,
   "metadata": {},
   "outputs": [
    {
     "name": "stdout",
     "output_type": "stream",
     "text": [
      "      sex      corr\n",
      "0    male  0.816579\n",
      "1  female  0.746695\n"
     ]
    }
   ],
   "source": [
    "# Grouping based on sex\n",
    "males = insurances[insurances['sex'] == 1]\n",
    "females = insurances[insurances['sex'] == 2]\n",
    "male_corr = males['smoker'].corr(males['charges'])\n",
    "female_corr = females['smoker'].corr(females['charges'])\n",
    "m_f_corr = pd.DataFrame({'sex': ['male', 'female'], 'corr': [male_corr, female_corr]})\n",
    "print(m_f_corr)"
   ]
  },
  {
   "cell_type": "code",
   "execution_count": null,
   "metadata": {},
   "outputs": [],
   "source": []
  },
  {
   "cell_type": "code",
   "execution_count": null,
   "metadata": {},
   "outputs": [],
   "source": []
  }
 ],
 "metadata": {
  "interpreter": {
   "hash": "c4573c57e2d28d1d0098470c56edb5645c125073932a7182db183e48b365bef7"
  },
  "kernelspec": {
   "display_name": "Python 3",
   "language": "python",
   "name": "python3"
  },
  "language_info": {
   "codemirror_mode": {
    "name": "ipython",
    "version": 3
   },
   "file_extension": ".py",
   "mimetype": "text/x-python",
   "name": "python",
   "nbconvert_exporter": "python",
   "pygments_lexer": "ipython3",
   "version": "3.8.8"
  }
 },
 "nbformat": 4,
 "nbformat_minor": 2
}
